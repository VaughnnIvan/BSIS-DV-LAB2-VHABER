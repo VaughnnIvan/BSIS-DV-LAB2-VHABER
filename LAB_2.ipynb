{
  "nbformat": 4,
  "nbformat_minor": 0,
  "metadata": {
    "colab": {
      "provenance": []
    },
    "kernelspec": {
      "name": "python3",
      "display_name": "Python 3"
    },
    "language_info": {
      "name": "python"
    }
  },
  "cells": [
    {
      "cell_type": "code",
      "execution_count": null,
      "metadata": {
        "colab": {
          "base_uri": "https://localhost:8080/"
        },
        "id": "h3SaFryxPBm2",
        "outputId": "99a329d8-ad38-482f-8030-3bc4eeac0038"
      },
      "outputs": [
        {
          "output_type": "stream",
          "name": "stdout",
          "text": [
            "Enter the first number:\n",
            "12\n",
            "Enter the second number:\n",
            "25.7\n",
            "Sum: 12.0 + 25.7 = 37.7\n",
            "Difference: 12.0 - 25.7 = -13.7\n",
            "Product: 12.0 * 25.7 = 308.4\n",
            "Quotient: 12.0 / 25.7 = 0.4669260700389105\n",
            "Power: 12.0 ^ 25.7 = 5.43197826365636e+27\n",
            "Division with remainder: 12.0 / 25.7 = 0.0\n",
            "Remainder: 12.0\n"
          ]
        }
      ],
      "source": [
        "print('Enter the first number:')\n",
        "x = float(input())\n",
        "print('Enter the second number:')\n",
        "y = float(input())\n",
        "\n",
        "sumxy = (x) + (y)\n",
        "diffxy = (x) - (y)\n",
        "prodxy = (x) * (y)\n",
        "quoxy = (x) / (y)\n",
        "expoxy = (x) ** (y)\n",
        "divxy = (x) // (y)\n",
        "remaxy = (x) % (y)\n",
        "\n",
        "print('Sum:', x, '+', y, '=', sumxy)\n",
        "print('Difference:', x, '-', y, '=', diffxy)\n",
        "print('Product:', x, '*', y, '=', prodxy)\n",
        "print('Quotient:', x, '/', y, '=', quoxy)\n",
        "print('Power:', x, '^', y, '=', expoxy)\n",
        "print('Division with remainder:', x, '/', y, '=', divxy)\n",
        "print('Remainder:', remaxy)"
      ]
    }
  ]
}